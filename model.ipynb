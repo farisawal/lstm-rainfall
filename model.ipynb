{
 "cells": [
  {
   "cell_type": "markdown",
   "metadata": {
    "deletable": false,
    "editable": false,
    "trusted": true
   },
   "source": [
    "import pandas as pd\n",
    "import os\n",
    "import re\n",
    "\n",
    "rainfall_data = pd.DataFrame()\n",
    "for file in os.listdir(\"lawas\"):\n",
    "    if re.search(r\"rainfall-data\\d+\\.csv\", file):\n",
    "        df = pd.read_csv(f\"lawas/{file}\")\n",
    "        rainfall_data = pd.concat([rainfall_data, df], ignore_index=True)\n",
    "\n",
    "rainfall_data.to_csv(\"lawas/rainfall-data-combine.csv\")"
   ]
  },
  {
   "cell_type": "markdown",
   "metadata": {},
   "source": [
    "# Feature Engineering"
   ]
  },
  {
   "cell_type": "code",
   "execution_count": null,
   "metadata": {},
   "outputs": [],
   "source": [
    "import pandas as pd\n",
    "\n",
    "df = pd.read_csv(\"lawas/rainfall-data-combine.csv\",usecols=[\"DateTime\", \"Rainfall (mm)\"])\n",
    "df[\"DateTime\"] = pd.to_datetime(df[\"DateTime\"],format=\"%Y%m%d %H%M\")\n",
    "\n"
   ]
  },
  {
   "cell_type": "markdown",
   "metadata": {},
   "source": [
    "# LSTM Model Univariate"
   ]
  },
  {
   "cell_type": "code",
   "execution_count": null,
   "metadata": {},
   "outputs": [],
   "source": []
  }
 ],
 "metadata": {
  "kernelspec": {
   "display_name": ".env",
   "language": "python",
   "name": "python3"
  },
  "language_info": {
   "codemirror_mode": {
    "name": "ipython",
    "version": 3
   },
   "file_extension": ".py",
   "mimetype": "text/x-python",
   "name": "python",
   "nbconvert_exporter": "python",
   "pygments_lexer": "ipython3",
   "version": "3.11.0"
  }
 },
 "nbformat": 4,
 "nbformat_minor": 2
}
